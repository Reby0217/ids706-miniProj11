{
 "cells": [
  {
   "cell_type": "code",
   "execution_count": 0,
   "metadata": {
    "application/vnd.databricks.v1+cell": {
     "cellMetadata": {
      "byteLimit": 2048000,
      "rowLimit": 10000
     },
     "inputWidgets": {},
     "nuid": "c7c03e72-46c7-4db8-802a-f4d80612634d",
     "showTitle": false,
     "tableResultSettingsMap": {},
     "title": ""
    }
   },
   "outputs": [],
   "source": [
    "# Load the data with default column names (_c0, _c1, etc.)\n",
    "df = spark.table(\"default.top_1000_wealthiest_people_3_csv\")"
   ]
  },
  {
   "cell_type": "code",
   "execution_count": 0,
   "metadata": {
    "application/vnd.databricks.v1+cell": {
     "cellMetadata": {
      "byteLimit": 2048000,
      "rowLimit": 10000
     },
     "inputWidgets": {},
     "nuid": "425b4e32-584d-4e04-8467-335fea7f6ce5",
     "showTitle": false,
     "tableResultSettingsMap": {},
     "title": ""
    }
   },
   "outputs": [],
   "source": [
    "# Rename columns to meaningful names\n",
    "df = df.withColumnRenamed(\"_c0\", \"Name\") \\\n",
    "       .withColumnRenamed(\"_c1\", \"Country\") \\\n",
    "       .withColumnRenamed(\"_c2\", \"Industry\") \\\n",
    "       .withColumnRenamed(\"_c3\", \"Net_Worth\") \\\n",
    "       .withColumnRenamed(\"_c4\", \"Company\")"
   ]
  },
  {
   "cell_type": "code",
   "execution_count": 0,
   "metadata": {
    "application/vnd.databricks.v1+cell": {
     "cellMetadata": {
      "byteLimit": 2048000,
      "rowLimit": 10000
     },
     "inputWidgets": {},
     "nuid": "20af03bb-df0c-4684-958b-19edf3df62d6",
     "showTitle": false,
     "tableResultSettingsMap": {},
     "title": ""
    }
   },
   "outputs": [],
   "source": [
    "# Save the Data Source to Delta Table with schema overwrite\n",
    "df.write.format(\"delta\").option(\"overwriteSchema\", \"true\").mode(\"overwrite\").save(\"/mnt/delta/source_table_wealth\")\n"
   ]
  },
  {
   "cell_type": "code",
   "execution_count": 0,
   "metadata": {
    "application/vnd.databricks.v1+cell": {
     "cellMetadata": {
      "byteLimit": 2048000,
      "rowLimit": 10000
     },
     "inputWidgets": {},
     "nuid": "f8972eb6-4c05-4377-a7b4-dd4637c68d65",
     "showTitle": false,
     "tableResultSettingsMap": {},
     "title": ""
    }
   },
   "outputs": [],
   "source": [
    "# Read from the Data Source Delta Table\n",
    "source_df = spark.read.format(\"delta\").load(\"/mnt/delta/source_table_wealth\")"
   ]
  },
  {
   "cell_type": "code",
   "execution_count": 0,
   "metadata": {
    "application/vnd.databricks.v1+cell": {
     "cellMetadata": {
      "byteLimit": 2048000,
      "rowLimit": 10000
     },
     "inputWidgets": {},
     "nuid": "63411507-6893-4007-8d96-23695f242c16",
     "showTitle": false,
     "tableResultSettingsMap": {},
     "title": ""
    }
   },
   "outputs": [],
   "source": [
    "# Create a temporary SQL view for Spark SQL queries\n",
    "source_df.createOrReplaceTempView(\"wealth_data\")"
   ]
  },
  {
   "cell_type": "code",
   "execution_count": 0,
   "metadata": {
    "application/vnd.databricks.v1+cell": {
     "cellMetadata": {
      "byteLimit": 2048000,
      "rowLimit": 10000
     },
     "inputWidgets": {},
     "nuid": "c0b34515-0ecb-4e7a-9894-01bd170a33fc",
     "showTitle": false,
     "tableResultSettingsMap": {},
     "title": ""
    }
   },
   "outputs": [],
   "source": [
    "# Use Spark SQL to filter and transform the data\n",
    "transformed_df = spark.sql(\"\"\"\n",
    "    SELECT Name, Country, Industry, Net_Worth, Company\n",
    "    FROM wealth_data\n",
    "    WHERE Industry = 'Technology' AND Net_Worth > 100\n",
    "\"\"\")"
   ]
  },
  {
   "cell_type": "code",
   "execution_count": 0,
   "metadata": {
    "application/vnd.databricks.v1+cell": {
     "cellMetadata": {
      "byteLimit": 2048000,
      "rowLimit": 10000
     },
     "inputWidgets": {},
     "nuid": "e32bafad-0ffd-4bf8-8c21-f50859b8f206",
     "showTitle": false,
     "tableResultSettingsMap": {},
     "title": ""
    }
   },
   "outputs": [],
   "source": [
    "# Write Transformed Data to Delta Lake Table as Data Sink\n",
    "transformed_df.write.format(\"delta\").mode(\"overwrite\").save(\"/mnt/delta/sink_table_wealth\")"
   ]
  },
  {
   "cell_type": "code",
   "execution_count": 0,
   "metadata": {
    "application/vnd.databricks.v1+cell": {
     "cellMetadata": {
      "byteLimit": 2048000,
      "rowLimit": 10000
     },
     "inputWidgets": {},
     "nuid": "8a74aed3-618d-4185-bbee-d8870c1390ac",
     "showTitle": false,
     "tableResultSettingsMap": {},
     "title": ""
    }
   },
   "outputs": [
    {
     "output_type": "stream",
     "name": "stdout",
     "output_type": "stream",
     "text": [
      "Source Data:\n+-----------------+-------+-------------+--------------------+-------------------+\n|             Name|Country|     Industry|           Net_Worth|            Company|\n+-----------------+-------+-------------+--------------------+-------------------+\n|             Name|Country|     Industry|Net Worth (in bil...|            Company|\n|       Rob Walton| Mexico|      Finance|                 8.5|            Walmart|\n|      Sergey Brin|    USA|   Automotive|               44.76|             Google|\n|    Steve Ballmer|    USA|Manufacturing|               13.43|    Koch Industries|\n|    Mukesh Ambani|    USA|   Technology|              120.44|             Google|\n|       Jim Walton|    USA|      Fashion|              122.39|            Walmart|\n|      Sergey Brin|    USA|   Technology|               93.19|            Walmart|\n|Michael Bloomberg|    USA|    Cosmetics|              117.96|Reliance Industries|\n|   Warren Buffett| France|       Retail|               36.62|          Microsoft|\n|      Carlos Slim|    USA|   Technology|               97.35|Reliance Industries|\n|       Larry Page|    USA|   Technology|               88.05|            Walmart|\n|       Rob Walton| France|   Technology|               29.31| Berkshire Hathaway|\n|     Alice Walton|    USA|   Technology|              167.09|               Zara|\n|       Larry Page|    USA|   Technology|               60.75|Reliance Industries|\n|     Alice Walton|    USA|   Technology|              192.96|             Oracle|\n|    Larry Ellison|    USA|   Technology|               71.13|             Google|\n|  Bernard Arnault|    USA|Manufacturing|               10.82|             Google|\n|       Larry Page|    USA|   Technology|               90.08|             Amazon|\n|    Larry Ellison|    USA|        Media|              167.65|    Koch Industries|\n|       Rob Walton|    USA|        Media|                6.94|               LVMH|\n+-----------------+-------+-------------+--------------------+-------------------+\nonly showing top 20 rows\n\n"
     ]
    }
   ],
   "source": [
    "# Verify: Read and Display Both Source and Sink Tables\n",
    "source = spark.read.format(\"delta\").load(\"/mnt/delta/source_table_wealth\")\n",
    "sink = spark.read.format(\"delta\").load(\"/mnt/delta/sink_table_wealth\")\n",
    "\n",
    "# Show the data for verification\n",
    "print(\"Source Data:\")\n",
    "source.show()"
   ]
  },
  {
   "cell_type": "code",
   "execution_count": 0,
   "metadata": {
    "application/vnd.databricks.v1+cell": {
     "cellMetadata": {
      "byteLimit": 2048000,
      "rowLimit": 10000
     },
     "inputWidgets": {},
     "nuid": "3cecfbee-fb93-478b-a748-e2c42ef602e6",
     "showTitle": false,
     "tableResultSettingsMap": {},
     "title": ""
    }
   },
   "outputs": [
    {
     "output_type": "stream",
     "name": "stdout",
     "output_type": "stream",
     "text": [
      "Transformed (Sink) Data:\n+--------------------+-------+----------+---------+-------------------+\n|                Name|Country|  Industry|Net_Worth|            Company|\n+--------------------+-------+----------+---------+-------------------+\n|       Mukesh Ambani|    USA|Technology|   120.44|             Google|\n|        Alice Walton|    USA|Technology|   167.09|               Zara|\n|        Alice Walton|    USA|Technology|   192.96|             Oracle|\n|          Larry Page|    USA|Technology|    184.8| Berkshire Hathaway|\n|     Mark Zuckerberg|    USA|Technology|   175.15|             Google|\n|     Mark Zuckerberg|    USA|Technology|   171.94|          Microsoft|\n|          Jeff Bezos|    USA|Technology|   126.21| Berkshire Hathaway|\n|          Bill Gates|    USA|Technology|   104.75|          Microsoft|\n|          Jim Walton|    USA|Technology|   196.19|            Walmart|\n|          Jeff Bezos| Mexico|Technology|   167.46|             Oracle|\n|          David Koch|    USA|Technology|   186.37|               LVMH|\n|         Sergey Brin|    USA|Technology|    177.1|        Grupo Carso|\n|      Amancio Ortega|    USA|Technology|   180.02| Berkshire Hathaway|\n|Francoise Bettenc...|    USA|Technology|    105.8|              Tesla|\n|     Bernard Arnault| France|Technology|   145.87|Reliance Industries|\n|          Bill Gates|    USA|Technology|   166.25|           Facebook|\n|          Rob Walton|    USA|Technology|   112.08|               Zara|\n|   Michael Bloomberg|    USA|Technology|   194.32|            Walmart|\n|     Mark Zuckerberg|    USA|Technology|   191.69|        Grupo Carso|\n|          David Koch|    USA|Technology|   194.15|        Grupo Carso|\n+--------------------+-------+----------+---------+-------------------+\nonly showing top 20 rows\n\n"
     ]
    }
   ],
   "source": [
    "print(\"Transformed (Sink) Data:\")\n",
    "sink.show()"
   ]
  }
 ],
 "metadata": {
  "application/vnd.databricks.v1+notebook": {
   "dashboards": [],
   "environmentMetadata": null,
   "language": "python",
   "notebookMetadata": {
    "pythonIndentUnit": 2
   },
   "notebookName": "mini11",
   "widgets": {}
  }
 },
 "nbformat": 4,
 "nbformat_minor": 0
}
